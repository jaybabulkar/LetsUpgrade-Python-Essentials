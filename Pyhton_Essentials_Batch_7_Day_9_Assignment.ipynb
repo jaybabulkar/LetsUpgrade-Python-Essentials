{
  "nbformat": 4,
  "nbformat_minor": 0,
  "metadata": {
    "colab": {
      "name": "Pyhton Essentials Batch-7 Day-9 Assignment.ipynb",
      "provenance": [],
      "collapsed_sections": [],
      "authorship_tag": "ABX9TyNQZYg0UBDz5k09wSljRxU2",
      "include_colab_link": true
    },
    "kernelspec": {
      "name": "python3",
      "display_name": "Python 3"
    }
  },
  "cells": [
    {
      "cell_type": "markdown",
      "metadata": {
        "id": "view-in-github",
        "colab_type": "text"
      },
      "source": [
        "<a href=\"https://colab.research.google.com/github/jaybabulkar/LetsUpgrade-Python-Essentials/blob/master/Pyhton_Essentials_Batch_7_Day_9_Assignment.ipynb\" target=\"_parent\"><img src=\"https://colab.research.google.com/assets/colab-badge.svg\" alt=\"Open In Colab\"/></a>"
      ]
    },
    {
      "cell_type": "markdown",
      "metadata": {
        "id": "d3U1dk_-VuBt",
        "colab_type": "text"
      },
      "source": [
        "#Question 1:- \n",
        " \n",
        "Write a Python function for finding is a given number prime or not and do Unit Testing on it using PyLint and Unnitest Library."
      ]
    },
    {
      "cell_type": "code",
      "metadata": {
        "id": "8qlntS9IXUjJ",
        "colab_type": "code",
        "colab": {
          "base_uri": "https://localhost:8080/",
          "height": 183
        },
        "outputId": "42ee7899-d373-4470-ae67-f7cee3fe2840"
      },
      "source": [
        "pip install pylint"
      ],
      "execution_count": 54,
      "outputs": [
        {
          "output_type": "stream",
          "text": [
            "Requirement already satisfied: pylint in /usr/local/lib/python3.6/dist-packages (2.6.0)\n",
            "Requirement already satisfied: mccabe<0.7,>=0.6 in /usr/local/lib/python3.6/dist-packages (from pylint) (0.6.1)\n",
            "Requirement already satisfied: toml>=0.7.1 in /usr/local/lib/python3.6/dist-packages (from pylint) (0.10.1)\n",
            "Requirement already satisfied: isort<6,>=4.2.5 in /usr/local/lib/python3.6/dist-packages (from pylint) (5.5.2)\n",
            "Requirement already satisfied: astroid<=2.5,>=2.4.0 in /usr/local/lib/python3.6/dist-packages (from pylint) (2.4.2)\n",
            "Requirement already satisfied: wrapt~=1.11 in /usr/local/lib/python3.6/dist-packages (from astroid<=2.5,>=2.4.0->pylint) (1.12.1)\n",
            "Requirement already satisfied: six~=1.12 in /usr/local/lib/python3.6/dist-packages (from astroid<=2.5,>=2.4.0->pylint) (1.15.0)\n",
            "Requirement already satisfied: typed-ast<1.5,>=1.4.0; implementation_name == \"cpython\" and python_version < \"3.8\" in /usr/local/lib/python3.6/dist-packages (from astroid<=2.5,>=2.4.0->pylint) (1.4.1)\n",
            "Requirement already satisfied: lazy-object-proxy==1.4.* in /usr/local/lib/python3.6/dist-packages (from astroid<=2.5,>=2.4.0->pylint) (1.4.3)\n"
          ],
          "name": "stdout"
        }
      ]
    },
    {
      "cell_type": "code",
      "metadata": {
        "id": "eMcEeG_NYSrI",
        "colab_type": "code",
        "colab": {
          "base_uri": "https://localhost:8080/",
          "height": 98
        },
        "outputId": "a92a334f-48d2-4f0d-f4c6-00582f2bac78"
      },
      "source": [
        "pip install unittest2"
      ],
      "execution_count": 55,
      "outputs": [
        {
          "output_type": "stream",
          "text": [
            "Requirement already satisfied: unittest2 in /usr/local/lib/python3.6/dist-packages (1.1.0)\n",
            "Requirement already satisfied: traceback2 in /usr/local/lib/python3.6/dist-packages (from unittest2) (1.4.0)\n",
            "Requirement already satisfied: six>=1.4 in /usr/local/lib/python3.6/dist-packages (from unittest2) (1.15.0)\n",
            "Requirement already satisfied: argparse in /usr/local/lib/python3.6/dist-packages (from unittest2) (1.4.0)\n",
            "Requirement already satisfied: linecache2 in /usr/local/lib/python3.6/dist-packages (from traceback2->unittest2) (1.0.0)\n"
          ],
          "name": "stdout"
        }
      ]
    },
    {
      "cell_type": "code",
      "metadata": {
        "id": "miVKPaCAauva",
        "colab_type": "code",
        "colab": {
          "base_uri": "https://localhost:8080/",
          "height": 50
        },
        "outputId": "0e58fa82-3458-4b10-812c-d868a97cbaf2"
      },
      "source": [
        "pip install unittest"
      ],
      "execution_count": 56,
      "outputs": [
        {
          "output_type": "stream",
          "text": [
            "\u001b[31mERROR: Could not find a version that satisfies the requirement unittest (from versions: none)\u001b[0m\n",
            "\u001b[31mERROR: No matching distribution found for unittest\u001b[0m\n"
          ],
          "name": "stdout"
        }
      ]
    },
    {
      "cell_type": "code",
      "metadata": {
        "id": "s7MVRbmCZk5-",
        "colab_type": "code",
        "colab": {
          "base_uri": "https://localhost:8080/",
          "height": 33
        },
        "outputId": "4ef84a4f-f9f6-483b-a812-245156415133"
      },
      "source": [
        "%%writefile check_prime_number.py\n",
        "\n",
        "def prime(num):\n",
        "\n",
        "    if num > 1 :\n",
        "        for i in range (2, num):\n",
        "            if (num % i) == 0:\n",
        "                break\n",
        "            return print(\"It is a Prime number\")\n",
        "    return print(\"It is not a prime number\")\n",
        "n = int(input(\"Enter the number :\"))\n",
        "prime(n)            "
      ],
      "execution_count": 57,
      "outputs": [
        {
          "output_type": "stream",
          "text": [
            "Overwriting check_prime_number.py\n"
          ],
          "name": "stdout"
        }
      ]
    },
    {
      "cell_type": "code",
      "metadata": {
        "id": "DsCIn2sKaVul",
        "colab_type": "code",
        "colab": {
          "base_uri": "https://localhost:8080/",
          "height": 126
        },
        "outputId": "305b3288-9de0-42dd-d2ab-5016fd08e0b5"
      },
      "source": [
        "pylint \"check_prime_number.py\""
      ],
      "execution_count": 58,
      "outputs": [
        {
          "output_type": "error",
          "ename": "SyntaxError",
          "evalue": "ignored",
          "traceback": [
            "\u001b[0;36m  File \u001b[0;32m\"<ipython-input-58-d037bdc101a9>\"\u001b[0;36m, line \u001b[0;32m1\u001b[0m\n\u001b[0;31m    pylint \"check_prime_number.py\"\u001b[0m\n\u001b[0m                                 ^\u001b[0m\n\u001b[0;31mSyntaxError\u001b[0m\u001b[0;31m:\u001b[0m invalid syntax\n"
          ]
        }
      ]
    },
    {
      "cell_type": "code",
      "metadata": {
        "id": "P4hf8XwWcd0a",
        "colab_type": "code",
        "colab": {
          "base_uri": "https://localhost:8080/",
          "height": 33
        },
        "outputId": "3eed742b-60fc-4d31-9bba-a7fc5483f71e"
      },
      "source": [
        "%%writefile capitalizeText.py\n",
        "\n",
        "def capText(string_To_Cap):\n",
        "    return string_to_Cap.title()"
      ],
      "execution_count": 59,
      "outputs": [
        {
          "output_type": "stream",
          "text": [
            "Overwriting capitalizeText.py\n"
          ],
          "name": "stdout"
        }
      ]
    },
    {
      "cell_type": "code",
      "metadata": {
        "id": "x-Y8ctNwcKnQ",
        "colab_type": "code",
        "colab": {
          "base_uri": "https://localhost:8080/",
          "height": 33
        },
        "outputId": "e7e502fc-22dd-4b46-92ea-6b913ea54db7"
      },
      "source": [
        "%%writefile test.py\n",
        "\n",
        "import unittest\n",
        "import capitalizeText\n",
        "\n",
        "class testPrimeNumber(unittest.TestCase):\n",
        "    def testOne(self):\n",
        "        result = capitalizeText.capText(\"let's go dubai\")\n",
        "        self.assertEqual(result,\"Let's Go Dubai\")\n",
        "    def testSecond(self):\n",
        "        result = capitalizeText.capText(\"this is a text string to test the unittest on a file\")\n",
        "        self.assertEqual(result,\"This Is A Text String To Test The Unittest On A File\")\n",
        "\n",
        "if __name__ == \"__main__\":\n",
        "    unittest.main()            "
      ],
      "execution_count": 60,
      "outputs": [
        {
          "output_type": "stream",
          "text": [
            "Overwriting test.py\n"
          ],
          "name": "stdout"
        }
      ]
    },
    {
      "cell_type": "code",
      "metadata": {
        "id": "8XOikPWNd_jq",
        "colab_type": "code",
        "colab": {
          "base_uri": "https://localhost:8080/",
          "height": 126
        },
        "outputId": "4ca307f3-9e26-4a4a-9dc0-a62fd7c43d24"
      },
      "source": [
        "python test.py"
      ],
      "execution_count": 61,
      "outputs": [
        {
          "output_type": "error",
          "ename": "SyntaxError",
          "evalue": "ignored",
          "traceback": [
            "\u001b[0;36m  File \u001b[0;32m\"<ipython-input-61-83c175a3a2f1>\"\u001b[0;36m, line \u001b[0;32m1\u001b[0m\n\u001b[0;31m    python test.py\u001b[0m\n\u001b[0m              ^\u001b[0m\n\u001b[0;31mSyntaxError\u001b[0m\u001b[0;31m:\u001b[0m invalid syntax\n"
          ]
        }
      ]
    },
    {
      "cell_type": "markdown",
      "metadata": {
        "id": "1Yf1VgPBf13a",
        "colab_type": "text"
      },
      "source": [
        "# OR\n",
        "\n",
        "\n",
        "\n",
        "\n",
        "\n",
        "\n"
      ]
    },
    {
      "cell_type": "code",
      "metadata": {
        "id": "6UpeKQTjQtm9",
        "colab_type": "code",
        "colab": {
          "base_uri": "https://localhost:8080/",
          "height": 33
        },
        "outputId": "013f063b-fb86-4504-d789-7fc4965163d3"
      },
      "source": [
        " \n",
        "%%writefile prime_or_not.py\n",
        " \n",
        "#Python program to check if a given number is prime or not.\n",
        " \n",
        "num=20\n",
        " \n",
        "if num > 1:\n",
        " \n",
        "     #Iterate from 2 to n/2.\n",
        "     for i in range(2, num):\n",
        " \n",
        "         #If number is divisible by any number between 2 and n/2, then the number is not a prime number. \n",
        "         if(num % i) == 0:\n",
        "            print(num,\" is not a prime number \")\n",
        "            break\n",
        "     else:\n",
        "         print(num,\" is a prime number\")\n",
        "else:\n",
        "     print(num, \"is not a prime number\")"
      ],
      "execution_count": 62,
      "outputs": [
        {
          "output_type": "stream",
          "text": [
            "Overwriting prime_or_not.py\n"
          ],
          "name": "stdout"
        }
      ]
    },
    {
      "cell_type": "code",
      "metadata": {
        "id": "U1U2DhoxTGyB",
        "colab_type": "code",
        "colab": {
          "base_uri": "https://localhost:8080/",
          "height": 126
        },
        "outputId": "5d1f0f58-6158-4f74-8170-210b86253dd7"
      },
      "source": [
        "pylint \"prime_or_not.py\""
      ],
      "execution_count": 63,
      "outputs": [
        {
          "output_type": "error",
          "ename": "SyntaxError",
          "evalue": "ignored",
          "traceback": [
            "\u001b[0;36m  File \u001b[0;32m\"<ipython-input-63-44f9690b39dc>\"\u001b[0;36m, line \u001b[0;32m1\u001b[0m\n\u001b[0;31m    pylint \"prime_or_not.py\"\u001b[0m\n\u001b[0m                           ^\u001b[0m\n\u001b[0;31mSyntaxError\u001b[0m\u001b[0;31m:\u001b[0m invalid syntax\n"
          ]
        }
      ]
    },
    {
      "cell_type": "code",
      "metadata": {
        "colab_type": "code",
        "id": "zoHVf77tgNAM",
        "colab": {
          "base_uri": "https://localhost:8080/",
          "height": 33
        },
        "outputId": "b3d77303-0add-4bdc-ac87-7b9f0d602962"
      },
      "source": [
        "%%writefile capitalizeText.py\n",
        "\n",
        "def capText(string_To_Cap):\n",
        "    return string_to_Cap.title()"
      ],
      "execution_count": 64,
      "outputs": [
        {
          "output_type": "stream",
          "text": [
            "Overwriting capitalizeText.py\n"
          ],
          "name": "stdout"
        }
      ]
    },
    {
      "cell_type": "code",
      "metadata": {
        "colab_type": "code",
        "id": "P5xHbCv3gNAR",
        "colab": {
          "base_uri": "https://localhost:8080/",
          "height": 33
        },
        "outputId": "d89a7af2-63d2-4d2d-f89b-14d42c55e822"
      },
      "source": [
        "%%writefile test.py\n",
        "\n",
        "import unittest\n",
        "import capitalizeText\n",
        "\n",
        "class testPrimeNumber(unittest.TestCase):\n",
        "    def testOne(self):\n",
        "        result = capitalizeText.capText(\"let's go dubai\")\n",
        "        self.assertEqual(result,\"Let's Go Dubai\")\n",
        "    def testSecond(self):\n",
        "        result = capitalizeText.capText(\"this is a text string to test the unittest on a file\")\n",
        "        self.assertEqual(result,\"This Is A Text String To Test The Unittest On A File\")\n",
        "\n",
        "if __name__ == \"__main__\":\n",
        "    unittest.main()            "
      ],
      "execution_count": 65,
      "outputs": [
        {
          "output_type": "stream",
          "text": [
            "Overwriting test.py\n"
          ],
          "name": "stdout"
        }
      ]
    },
    {
      "cell_type": "code",
      "metadata": {
        "id": "5z_WhSVyUp5A",
        "colab_type": "code",
        "colab": {
          "base_uri": "https://localhost:8080/",
          "height": 126
        },
        "outputId": "63b5d9ea-ea79-4a3a-e599-36aac5ac244d"
      },
      "source": [
        "python testCapText.py"
      ],
      "execution_count": 67,
      "outputs": [
        {
          "output_type": "error",
          "ename": "SyntaxError",
          "evalue": "ignored",
          "traceback": [
            "\u001b[0;36m  File \u001b[0;32m\"<ipython-input-67-1759790895ea>\"\u001b[0;36m, line \u001b[0;32m1\u001b[0m\n\u001b[0;31m    python testCapText.py\u001b[0m\n\u001b[0m                     ^\u001b[0m\n\u001b[0;31mSyntaxError\u001b[0m\u001b[0;31m:\u001b[0m invalid syntax\n"
          ]
        }
      ]
    },
    {
      "cell_type": "markdown",
      "metadata": {
        "id": "Be5WVLz8WhXG",
        "colab_type": "text"
      },
      "source": [
        "#Question 2:-\n",
        " \n",
        "Make a small generator program for returning Armstrong numbers in between 1-1000 in a generator object."
      ]
    },
    {
      "cell_type": "code",
      "metadata": {
        "id": "4pAelWb_W0Qv",
        "colab_type": "code",
        "colab": {
          "base_uri": "https://localhost:8080/",
          "height": 968
        },
        "outputId": "9c79d747-bcfc-4f8c-f53f-3a7bea50b63b"
      },
      "source": [
        "#A simple generator function for returning Armstrong numbers.\n",
        " \n",
        "def is_armstrong(num):\n",
        "    lower = int(input(\"Enter lower range: \"))\n",
        "    upper = int(input(\"Enter upper range: \"))\n",
        "    for num in range(lower, upper + 1):\n",
        " \n",
        "       order = len(str(num))\n",
        "       sum = 0\n",
        " \n",
        "       temp = num\n",
        "       while temp > 0:\n",
        "           digit = temp % 10\n",
        "           sum += digit ** order \n",
        "           temp //= 10           \n",
        "       if num == sum:\n",
        "           print (num)\n",
        "num = is_armstrong(num)\n",
        "print(num)\n",
        "try:\n",
        "    print (\"\\n Using for in loop\")\n",
        "    for i in is_armstrong(num):\n",
        "          print(i)\n",
        "except (typeerror):\n",
        "    print(\"Exception ignored\")"
      ],
      "execution_count": null,
      "outputs": [
        {
          "output_type": "stream",
          "text": [
            "Enter lower range: 10\n",
            "Enter upper range: 1000\n",
            "153\n",
            "370\n",
            "371\n",
            "407\n",
            "None\n",
            "\n",
            " Using for in loop\n",
            "Enter lower range: 10\n",
            "Enter upper range: 1000\n",
            "153\n",
            "370\n",
            "371\n",
            "407\n"
          ],
          "name": "stdout"
        },
        {
          "output_type": "error",
          "ename": "NameError",
          "evalue": "ignored",
          "traceback": [
            "\u001b[0;31m---------------------------------------------------------------------------\u001b[0m",
            "\u001b[0;31mTypeError\u001b[0m                                 Traceback (most recent call last)",
            "\u001b[0;32m<ipython-input-37-ca10627e92ca>\u001b[0m in \u001b[0;36m<module>\u001b[0;34m()\u001b[0m\n\u001b[1;32m     21\u001b[0m     \u001b[0mprint\u001b[0m \u001b[0;34m(\u001b[0m\u001b[0;34m\"\\n Using for in loop\"\u001b[0m\u001b[0;34m)\u001b[0m\u001b[0;34m\u001b[0m\u001b[0;34m\u001b[0m\u001b[0m\n\u001b[0;32m---> 22\u001b[0;31m     \u001b[0;32mfor\u001b[0m \u001b[0mi\u001b[0m \u001b[0;32min\u001b[0m \u001b[0mis_armstrong\u001b[0m\u001b[0;34m(\u001b[0m\u001b[0mnum\u001b[0m\u001b[0;34m)\u001b[0m\u001b[0;34m:\u001b[0m\u001b[0;34m\u001b[0m\u001b[0;34m\u001b[0m\u001b[0m\n\u001b[0m\u001b[1;32m     23\u001b[0m           \u001b[0mprint\u001b[0m\u001b[0;34m(\u001b[0m\u001b[0mi\u001b[0m\u001b[0;34m)\u001b[0m\u001b[0;34m\u001b[0m\u001b[0;34m\u001b[0m\u001b[0m\n",
            "\u001b[0;31mTypeError\u001b[0m: 'NoneType' object is not iterable",
            "\nDuring handling of the above exception, another exception occurred:\n",
            "\u001b[0;31mNameError\u001b[0m                                 Traceback (most recent call last)",
            "\u001b[0;32m<ipython-input-37-ca10627e92ca>\u001b[0m in \u001b[0;36m<module>\u001b[0;34m()\u001b[0m\n\u001b[1;32m     22\u001b[0m     \u001b[0;32mfor\u001b[0m \u001b[0mi\u001b[0m \u001b[0;32min\u001b[0m \u001b[0mis_armstrong\u001b[0m\u001b[0;34m(\u001b[0m\u001b[0mnum\u001b[0m\u001b[0;34m)\u001b[0m\u001b[0;34m:\u001b[0m\u001b[0;34m\u001b[0m\u001b[0;34m\u001b[0m\u001b[0m\n\u001b[1;32m     23\u001b[0m           \u001b[0mprint\u001b[0m\u001b[0;34m(\u001b[0m\u001b[0mi\u001b[0m\u001b[0;34m)\u001b[0m\u001b[0;34m\u001b[0m\u001b[0;34m\u001b[0m\u001b[0m\n\u001b[0;32m---> 24\u001b[0;31m \u001b[0;32mexcept\u001b[0m \u001b[0;34m(\u001b[0m\u001b[0mtypeerror\u001b[0m\u001b[0;34m)\u001b[0m\u001b[0;34m:\u001b[0m\u001b[0;34m\u001b[0m\u001b[0;34m\u001b[0m\u001b[0m\n\u001b[0m\u001b[1;32m     25\u001b[0m     \u001b[0mprint\u001b[0m\u001b[0;34m(\u001b[0m\u001b[0;34m\"Exception ignored\"\u001b[0m\u001b[0;34m)\u001b[0m\u001b[0;34m\u001b[0m\u001b[0;34m\u001b[0m\u001b[0m\n",
            "\u001b[0;31mNameError\u001b[0m: name 'typeerror' is not defined"
          ]
        }
      ]
    },
    {
      "cell_type": "markdown",
      "metadata": {
        "id": "V3-0IU5AfqKF",
        "colab_type": "text"
      },
      "source": [
        "# OR\n",
        "\n",
        "\n",
        "\n"
      ]
    },
    {
      "cell_type": "code",
      "metadata": {
        "id": "ZjPblKetefGN",
        "colab_type": "code",
        "colab": {
          "base_uri": "https://localhost:8080/",
          "height": 98
        },
        "outputId": "0c134a18-400e-4f11-e983-8c8126fa16f6"
      },
      "source": [
        "for num in range(1,1000):\n",
        "  temp = num\n",
        "  sum = 0\n",
        "  \n",
        "  while temp > 0:\n",
        "    digit = temp % 10\n",
        "    sum = sum + digit ** 3\n",
        "    temp = temp // 10\n",
        "\n",
        "  if sum == num:\n",
        "    print(num)  "
      ],
      "execution_count": 51,
      "outputs": [
        {
          "output_type": "stream",
          "text": [
            "1\n",
            "153\n",
            "370\n",
            "371\n",
            "407\n"
          ],
          "name": "stdout"
        }
      ]
    }
  ]
}