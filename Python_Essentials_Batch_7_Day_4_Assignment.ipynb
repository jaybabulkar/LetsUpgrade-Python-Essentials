{
  "nbformat": 4,
  "nbformat_minor": 0,
  "metadata": {
    "colab": {
      "name": "Python Essentials Batch-7 Day-4 Assignment.ipynb",
      "provenance": [],
      "collapsed_sections": [],
      "authorship_tag": "ABX9TyMJvXI2nG+HVMFrg4pmEOAs",
      "include_colab_link": true
    },
    "kernelspec": {
      "name": "python3",
      "display_name": "Python 3"
    }
  },
  "cells": [
    {
      "cell_type": "markdown",
      "metadata": {
        "id": "view-in-github",
        "colab_type": "text"
      },
      "source": [
        "<a href=\"https://colab.research.google.com/github/jaybabulkar/LetsUpgrade-Python-Essentials/blob/master/Python_Essentials_Batch_7_Day_4_Assignment.ipynb\" target=\"_parent\"><img src=\"https://colab.research.google.com/assets/colab-badge.svg\" alt=\"Open In Colab\"/></a>"
      ]
    },
    {
      "cell_type": "markdown",
      "metadata": {
        "id": "I3aEH2vmrdAM",
        "colab_type": "text"
      },
      "source": [
        "## Question 1:- Print the Armstrong numbers in the range of 1042000 to 702648265 and exit the loop as soon as you encounter the first Armstrong number.\n",
        "\n",
        "\n",
        "\n",
        "Output :- The first Armstrong number is ___________\n"
      ]
    },
    {
      "cell_type": "code",
      "metadata": {
        "id": "KRfBZ3FGEtN3",
        "colab_type": "code",
        "colab": {
          "base_uri": "https://localhost:8080/",
          "height": 36
        },
        "outputId": "8e942195-1337-4efb-e918-bc29aa41da44"
      },
      "source": [
        "for n in range(1042000, 702648265):\n",
        "  l = len(str(n))\n",
        "  sum = 0\n",
        "  temp = n\n",
        " \n",
        "  while temp > 0:                   \n",
        "    d = temp % 10\n",
        "    sum += d ** l\n",
        "    temp //= 10\n",
        "    \n",
        "  if n == sum:\n",
        "    print(n)\n",
        "    break"
      ],
      "execution_count": null,
      "outputs": [
        {
          "output_type": "stream",
          "text": [
            "1741725\n"
          ],
          "name": "stdout"
        }
      ]
    }
  ]
}