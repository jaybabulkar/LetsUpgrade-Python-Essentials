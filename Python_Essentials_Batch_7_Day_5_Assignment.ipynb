{
  "nbformat": 4,
  "nbformat_minor": 0,
  "metadata": {
    "colab": {
      "name": "Python Essentials Batch-7 Day-5 Assignment.ipynb",
      "provenance": [],
      "collapsed_sections": [],
      "authorship_tag": "ABX9TyPipx27v/+T3cYux5CBQHce",
      "include_colab_link": true
    },
    "kernelspec": {
      "name": "python3",
      "display_name": "Python 3"
    }
  },
  "cells": [
    {
      "cell_type": "markdown",
      "metadata": {
        "id": "view-in-github",
        "colab_type": "text"
      },
      "source": [
        "<a href=\"https://colab.research.google.com/github/jaybabulkar/LetsUpgrade-Python-Essentials/blob/master/Python_Essentials_Batch_7_Day_5_Assignment.ipynb\" target=\"_parent\"><img src=\"https://colab.research.google.com/assets/colab-badge.svg\" alt=\"Open In Colab\"/></a>"
      ]
    },
    {
      "cell_type": "markdown",
      "metadata": {
        "id": "ziwFebrz28Ow",
        "colab_type": "text"
      },
      "source": [
        "## Question 1:-\n",
        "\n",
        "For this challenge, create a bank account class that has two attributes\n",
        "\n",
        "*ownerName\n",
        "\n",
        "\n",
        "\n",
        "*Balance\n",
        "\n",
        "\n",
        "And two methods\n",
        "\n",
        "\n",
        "*deposit\n",
        "\n",
        "\n",
        "*withdraw\n",
        "\n",
        "As an added requirement, withdrawals may not exceed the available balance.\n",
        "\n",
        "Instantiate your class, make several deposits and withdrawals, and test to make sure the account cant be overdrawn."
      ]
    },
    {
      "cell_type": "code",
      "metadata": {
        "id": "HCYvaZ733wft",
        "colab_type": "code",
        "colab": {
          "base_uri": "https://localhost:8080/",
          "height": 163
        },
        "outputId": "26167c3c-a9fe-4861-c611-b79dce661098"
      },
      "source": [
        "\n",
        "\n",
        "class Bank_Account :\n",
        "    def __init__(self):\n",
        "        self.balance = 0\n",
        "        print (\"Hello! Welcome to your own Bank\")\n",
        "        name = str(input(\"Enter the name of account holder:-\"))\n",
        "    def deposit(self): \n",
        "        amount = float(input(\"Enter amount to be Deposited:-\"))\n",
        "        self.balance += amount\n",
        "        print (\"\\n Amount Deposited:\", amount)\n",
        "\n",
        "    def withdraw (self):\n",
        "       amount = float(input(\"Enter amount to be Withdrawn:-\"))  \n",
        "       if self.balance>=amount:\n",
        "           self.balance-=amount\n",
        "           print (\"\\n The amount you withdrawn:-\", amount)\n",
        "       else:\n",
        "           print (\"\\n Insufficient Balance in your Account\")\n",
        "\n",
        "    def display (self):\n",
        "        print (\"\\ Net Available Balance=\",self.balance)\n",
        "\n",
        "\n",
        "#Creating an object of class\n",
        "s = Bank_Account()\n",
        "\n",
        "#Calling functions with that class objects\n",
        "s.deposit()\n",
        "s.withdraw()\n",
        "s.display()             "
      ],
      "execution_count": 14,
      "outputs": [
        {
          "output_type": "stream",
          "text": [
            "Hello! Welcome to your own Bank\n",
            "Enter the name of account holder:-RamKishan Tyagi\n",
            "Enter amount to be Deposited:-50000\n",
            "\n",
            " Amount Deposited: 50000.0\n",
            "Enter amount to be Withdrawn:-5000\n",
            "\n",
            " The amount you withdrawn:- 5000.0\n",
            "\\ Net Available Balance= 45000.0\n"
          ],
          "name": "stdout"
        }
      ]
    },
    {
      "cell_type": "code",
      "metadata": {
        "colab_type": "code",
        "id": "hcgLw73V8X6m",
        "colab": {
          "base_uri": "https://localhost:8080/",
          "height": 163
        },
        "outputId": "c4150a83-7407-44b3-e2b5-a8119c776d8a"
      },
      "source": [
        "\n",
        "\n",
        "class Bank_Account :\n",
        "    def __init__(self):\n",
        "        self.balance = 0\n",
        "        print (\"Hello! Welcome to your own Bank\")\n",
        "        name = str(input(\"Enter the name of account holder:-\"))\n",
        "    def deposit(self): \n",
        "        amount = float(input(\"Enter amount to be Deposited:-\"))\n",
        "        self.balance += amount\n",
        "        print (\"\\n Amount Deposited:\", amount)\n",
        "\n",
        "    def withdraw (self):\n",
        "       amount = float(input(\"Enter amount to be Withdrawn:-\"))  \n",
        "       if self.balance>=amount:\n",
        "           self.balance-=amount\n",
        "           print (\"\\n The amount you withdrawn:-\", amount)\n",
        "       else:\n",
        "           print (\"\\n Insufficient Balance in your Account\")\n",
        "\n",
        "    def display (self):\n",
        "        print (\"\\ Net Available Balance=\",self.balance)\n",
        "\n",
        "\n",
        "#Creating an object of class\n",
        "s = Bank_Account()\n",
        "\n",
        "#Calling functions with that class objects\n",
        "s.deposit()\n",
        "s.withdraw()\n",
        "s.display()             "
      ],
      "execution_count": 15,
      "outputs": [
        {
          "output_type": "stream",
          "text": [
            "Hello! Welcome to your own Bank\n",
            "Enter the name of account holder:-Vandana Gupta\n",
            "Enter amount to be Deposited:-600000\n",
            "\n",
            " Amount Deposited: 600000.0\n",
            "Enter amount to be Withdrawn:-1000\n",
            "\n",
            " The amount you withdrawn:- 1000.0\n",
            "\\ Net Available Balance= 599000.0\n"
          ],
          "name": "stdout"
        }
      ]
    },
    {
      "cell_type": "code",
      "metadata": {
        "colab_type": "code",
        "id": "np6SZtHD8YQ0",
        "colab": {
          "base_uri": "https://localhost:8080/",
          "height": 163
        },
        "outputId": "c1104cd7-4239-42ff-fc22-daa183179385"
      },
      "source": [
        "\n",
        "\n",
        "class Bank_Account :\n",
        "    def __init__(self):\n",
        "        self.balance = 0\n",
        "        print (\"Hello! Welcome to your own Bank\")\n",
        "        name = str(input(\"Enter the name of account holder:-\"))\n",
        "    def deposit(self): \n",
        "        amount = float(input(\"Enter amount to be Deposited:-\"))\n",
        "        self.balance += amount\n",
        "        print (\"\\n Amount Deposited:\", amount)\n",
        "\n",
        "    def withdraw (self):\n",
        "       amount = float(input(\"Enter amount to be Withdrawn:-\"))  \n",
        "       if self.balance>=amount:\n",
        "           self.balance-=amount\n",
        "           print (\"\\n The amount you withdrawn:-\", amount)\n",
        "       else:\n",
        "           print (\"\\n Insufficient Balance in your Account\")\n",
        "\n",
        "    def display (self):\n",
        "        print (\"\\ Net Available Balance=\",self.balance)\n",
        "\n",
        "\n",
        "#Creating an object of class\n",
        "s = Bank_Account()\n",
        "\n",
        "#Calling functions with that class objects\n",
        "s.deposit()\n",
        "s.withdraw()\n",
        "s.display()             "
      ],
      "execution_count": 16,
      "outputs": [
        {
          "output_type": "stream",
          "text": [
            "Hello! Welcome to your own Bank\n",
            "Enter the name of account holder:-Mritunsha Jaiswal\n",
            "Enter amount to be Deposited:-10000000\n",
            "\n",
            " Amount Deposited: 10000000.0\n",
            "Enter amount to be Withdrawn:-50000000\n",
            "\n",
            " Insufficient Balance in your Account\n",
            "\\ Net Available Balance= 10000000.0\n"
          ],
          "name": "stdout"
        }
      ]
    },
    {
      "cell_type": "code",
      "metadata": {
        "colab_type": "code",
        "id": "yUVvX7fx8Yf3",
        "colab": {
          "base_uri": "https://localhost:8080/",
          "height": 163
        },
        "outputId": "e88d67b6-271a-4c64-9c7e-f7ab23994e2d"
      },
      "source": [
        "\n",
        "\n",
        "class Bank_Account :\n",
        "    def __init__(self):\n",
        "        self.balance = 0\n",
        "        print (\"Hello! Welcome to your own Bank\")\n",
        "        name = str(input(\"Enter the name of account holder:-\"))\n",
        "    def deposit(self): \n",
        "        amount = float(input(\"Enter amount to be Deposited:-\"))\n",
        "        self.balance += amount\n",
        "        print (\"\\n Amount Deposited:\", amount)\n",
        "\n",
        "    def withdraw (self):\n",
        "       amount = float(input(\"Enter amount to be Withdrawn:-\"))  \n",
        "       if self.balance>=amount:\n",
        "           self.balance-=amount\n",
        "           print (\"\\n The amount you withdrawn:-\", amount)\n",
        "       else:\n",
        "           print (\"\\n Insufficient Balance in your Account\")\n",
        "\n",
        "    def display (self):\n",
        "        print (\"\\ Net Available Balance=\",self.balance)\n",
        "\n",
        "\n",
        "#Creating an object of class\n",
        "s = Bank_Account()\n",
        "\n",
        "#Calling functions with that class objects\n",
        "s.deposit()\n",
        "s.withdraw()\n",
        "s.display()             "
      ],
      "execution_count": 17,
      "outputs": [
        {
          "output_type": "stream",
          "text": [
            "Hello! Welcome to your own Bank\n",
            "Enter the name of account holder:-Sanjeev Bhattacharya\n",
            "Enter amount to be Deposited:-430000\n",
            "\n",
            " Amount Deposited: 430000.0\n",
            "Enter amount to be Withdrawn:-960000\n",
            "\n",
            " Insufficient Balance in your Account\n",
            "\\ Net Available Balance= 430000.0\n"
          ],
          "name": "stdout"
        }
      ]
    },
    {
      "cell_type": "code",
      "metadata": {
        "colab_type": "code",
        "id": "pIKYwOdZ8Yu2",
        "colab": {
          "base_uri": "https://localhost:8080/",
          "height": 163
        },
        "outputId": "09a58755-370b-45b8-f2b2-3607bdc0bc2e"
      },
      "source": [
        "\n",
        "\n",
        "class Bank_Account :\n",
        "    def __init__(self):\n",
        "        self.balance = 0\n",
        "        print (\"Hello! Welcome to your own Bank\")\n",
        "        name = str(input(\"Enter the name of account holder:-\"))\n",
        "    def deposit(self): \n",
        "        amount = float(input(\"Enter amount to be Deposited:-\"))\n",
        "        self.balance += amount\n",
        "        print (\"\\n Amount Deposited:\", amount)\n",
        "\n",
        "    def withdraw (self):\n",
        "       amount = float(input(\"Enter amount to be Withdrawn:-\"))  \n",
        "       if self.balance>=amount:\n",
        "           self.balance-=amount\n",
        "           print (\"\\n The amount you withdrawn:-\", amount)\n",
        "       else:\n",
        "           print (\"\\n Insufficient Balance in your Account\")\n",
        "\n",
        "    def display (self):\n",
        "        print (\"\\ Net Available Balance=\",self.balance)\n",
        "\n",
        "\n",
        "#Creating an object of class\n",
        "s = Bank_Account()\n",
        "\n",
        "#Calling functions with that class objects\n",
        "s.deposit()\n",
        "s.withdraw()\n",
        "s.display()             "
      ],
      "execution_count": 18,
      "outputs": [
        {
          "output_type": "stream",
          "text": [
            "Hello! Welcome to your own Bank\n",
            "Enter the name of account holder:-Manish Goyenka\n",
            "Enter amount to be Deposited:-7390\n",
            "\n",
            " Amount Deposited: 7390.0\n",
            "Enter amount to be Withdrawn:-4300\n",
            "\n",
            " The amount you withdrawn:- 4300.0\n",
            "\\ Net Available Balance= 3090.0\n"
          ],
          "name": "stdout"
        }
      ]
    },
    {
      "cell_type": "code",
      "metadata": {
        "colab_type": "code",
        "id": "HYT33E0p8Y-O",
        "colab": {
          "base_uri": "https://localhost:8080/",
          "height": 163
        },
        "outputId": "171e96be-52f0-4bb2-daa6-d9f0c8e7732f"
      },
      "source": [
        "\n",
        "\n",
        "class Bank_Account :\n",
        "    def __init__(self):\n",
        "        self.balance = 0\n",
        "        print (\"Hello! Welcome to your own Bank\")\n",
        "        name = str(input(\"Enter the name of account holder:-\"))\n",
        "    def deposit(self): \n",
        "        amount = float(input(\"Enter amount to be Deposited:-\"))\n",
        "        self.balance += amount\n",
        "        print (\"\\n Amount Deposited:\", amount)\n",
        "\n",
        "    def withdraw (self):\n",
        "       amount = float(input(\"Enter amount to be Withdrawn:-\"))  \n",
        "       if self.balance>=amount:\n",
        "           self.balance-=amount\n",
        "           print (\"\\n The amount you withdrawn:-\", amount)\n",
        "       else:\n",
        "           print (\"\\n Insufficient Balance in your Account\")\n",
        "\n",
        "    def display (self):\n",
        "        print (\"\\ Net Available Balance=\",self.balance)\n",
        "\n",
        "\n",
        "#Creating an object of class\n",
        "s = Bank_Account()\n",
        "\n",
        "#Calling functions with that class objects\n",
        "s.deposit()\n",
        "s.withdraw()\n",
        "s.display()             "
      ],
      "execution_count": 19,
      "outputs": [
        {
          "output_type": "stream",
          "text": [
            "Hello! Welcome to your own Bank\n",
            "Enter the name of account holder:-Ramiz Shah\n",
            "Enter amount to be Deposited:-62000\n",
            "\n",
            " Amount Deposited: 62000.0\n",
            "Enter amount to be Withdrawn:-3232\n",
            "\n",
            " The amount you withdrawn:- 3232.0\n",
            "\\ Net Available Balance= 58768.0\n"
          ],
          "name": "stdout"
        }
      ]
    },
    {
      "cell_type": "code",
      "metadata": {
        "colab_type": "code",
        "id": "vVq2uXp48ZRC",
        "colab": {
          "base_uri": "https://localhost:8080/",
          "height": 163
        },
        "outputId": "a71d3def-defe-433a-eaf9-ddadc693390f"
      },
      "source": [
        "\n",
        "\n",
        "class Bank_Account :\n",
        "    def __init__(self):\n",
        "        self.balance = 0\n",
        "        print (\"Hello! Welcome to your own Bank\")\n",
        "        name = str(input(\"Enter the name of account holder:-\"))\n",
        "    def deposit(self): \n",
        "        amount = float(input(\"Enter amount to be Deposited:-\"))\n",
        "        self.balance += amount\n",
        "        print (\"\\n Amount Deposited:\", amount)\n",
        "\n",
        "    def withdraw (self):\n",
        "       amount = float(input(\"Enter amount to be Withdrawn:-\"))  \n",
        "       if self.balance>=amount:\n",
        "           self.balance-=amount\n",
        "           print (\"\\n The amount you withdrawn:-\", amount)\n",
        "       else:\n",
        "           print (\"\\n Insufficient Balance in your Account\")\n",
        "\n",
        "    def display (self):\n",
        "        print (\"\\ Net Available Balance=\",self.balance)\n",
        "\n",
        "\n",
        "#Creating an object of class\n",
        "s = Bank_Account()\n",
        "\n",
        "#Calling functions with that class objects\n",
        "s.deposit()\n",
        "s.withdraw()\n",
        "s.display()             "
      ],
      "execution_count": 20,
      "outputs": [
        {
          "output_type": "stream",
          "text": [
            "Hello! Welcome to your own Bank\n",
            "Enter the name of account holder:-Sherlyn Orlando\n",
            "Enter amount to be Deposited:-8743573\n",
            "\n",
            " Amount Deposited: 8743573.0\n",
            "Enter amount to be Withdrawn:-1235325\n",
            "\n",
            " The amount you withdrawn:- 1235325.0\n",
            "\\ Net Available Balance= 7508248.0\n"
          ],
          "name": "stdout"
        }
      ]
    },
    {
      "cell_type": "markdown",
      "metadata": {
        "id": "2u40N6Kt9ajX",
        "colab_type": "text"
      },
      "source": [
        "## Question 2:-\n",
        "\n",
        "For this Challenge, create a cone class that has two attributes:\n",
        "\n",
        "*R = Radius\n",
        "\n",
        "*h = Height\n",
        "\n",
        "\n",
        "And two methods\n",
        "\n",
        "*Volume = Pi * r2 = (h/3)\n",
        "\n",
        "*Surface Area : base: Pi * r2, side: Pi * r = sqrt(r2 +h2)\n",
        "\n",
        "Make only one class with functions, as in where required import Math."
      ]
    },
    {
      "cell_type": "code",
      "metadata": {
        "id": "A1_CGT5r-g1y",
        "colab_type": "code",
        "colab": {
          "base_uri": "https://localhost:8080/",
          "height": 131
        },
        "outputId": "8bacfca4-be28-406a-dced-fad24f09c3c6"
      },
      "source": [
        "import math\n",
        "\n",
        "radius = float(input('Enter the radius of a Cone:-'))\n",
        "height = float(input('Enter the height of a Cone:-'))\n",
        "\n",
        "#Now we calculate slant height of a Cone.\n",
        "l = math.sqrt(radius * radius + height * height)\n",
        "\n",
        "#Calculate the Volume of a Cone.\n",
        "Volume = (1.0/3) * math.pi * radius * radius * height\n",
        "\n",
        "#Calculate the Surface Area of a Cone of its side.\n",
        "Surface_Area_side = math.pi * (radius + l)\n",
        "\n",
        "#Calculate the Surface Area of a Cone of its Base.\n",
        "Surface_Area_base = math.pi * radius * radius\n",
        "print (\"\\nLenght of slant height of cone =%2f\"%l)\n",
        "print(\"The Volume of the Cone=%2f\"%Volume)\n",
        "print(\"The Surface Area of Side of a Cone=%2f\"%Surface_Area_side)\n",
        "print(\"The Surface Area of Base of a Cone=%2f\"%Surface_Area_base)"
      ],
      "execution_count": 25,
      "outputs": [
        {
          "output_type": "stream",
          "text": [
            "Enter the radius of a Cone:-5\n",
            "Enter the height of a Cone:-6\n",
            "\n",
            "Lenght of slant height of cone =7.810250\n",
            "The Volume of the Cone=157.079633\n",
            "The Surface Area of Side of a Cone=40.244586\n",
            "The Surface Area of Base of a Cone=78.539816\n"
          ],
          "name": "stdout"
        }
      ]
    }
  ]
}