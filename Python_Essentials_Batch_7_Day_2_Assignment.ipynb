{
  "nbformat": 4,
  "nbformat_minor": 0,
  "metadata": {
    "colab": {
      "name": "Python Essentials Batch-7 Day-2 Assignment.ipynb",
      "provenance": [],
      "collapsed_sections": [],
      "authorship_tag": "ABX9TyMuN40NbgiP/JU9PiJ95Cqy",
      "include_colab_link": true
    },
    "kernelspec": {
      "name": "python3",
      "display_name": "Python 3"
    }
  },
  "cells": [
    {
      "cell_type": "markdown",
      "metadata": {
        "id": "view-in-github",
        "colab_type": "text"
      },
      "source": [
        "<a href=\"https://colab.research.google.com/github/jaybabulkar/LetsUpgrade-Python-Essentials/blob/master/Python_Essentials_Batch_7_Day_2_Assignment.ipynb\" target=\"_parent\"><img src=\"https://colab.research.google.com/assets/colab-badge.svg\" alt=\"Open In Colab\"/></a>"
      ]
    },
    {
      "cell_type": "markdown",
      "metadata": {
        "id": "7bHYIeBq0tK4",
        "colab_type": "text"
      },
      "source": [
        "## Question 1:- List and its default functions."
      ]
    },
    {
      "cell_type": "markdown",
      "metadata": {
        "id": "9YHOjifHyK9b",
        "colab_type": "text"
      },
      "source": [
        "# **List**\n",
        " \n",
        "A List is a sequence of values. You can visualize a list as a container that holds a number of items, in a given order."
      ]
    },
    {
      "cell_type": "markdown",
      "metadata": {
        "id": "Ph42O8day6UJ",
        "colab_type": "text"
      },
      "source": [
        "A List has various methods and functions. \n",
        "They are:-\n",
        " \n",
        "append(x), extend(iterable), insert(i,x), remove(x), pop([i]), clear(), index(x[,start[,end]]), count(x), sort(key=None, reverse =False), reverse (), copy()\n",
        " \n",
        "len(s), list([iterable]), max(iterable, *, key, default]), min(iterable, *, key, default]), range(stop)."
      ]
    },
    {
      "cell_type": "markdown",
      "metadata": {
        "id": "e8QF1UmR1PBO",
        "colab_type": "text"
      },
      "source": [
        "1.append(x):- Adds an item(x) to the end of the list. This is equivalent to a[len(a):] =[x]."
      ]
    },
    {
      "cell_type": "code",
      "metadata": {
        "id": "ZpqqydRE0pPh",
        "colab_type": "code",
        "colab": {
          "base_uri": "https://localhost:8080/",
          "height": 75
        },
        "outputId": "a68ede46-0134-4acb-94cb-ea8a4e1d509f"
      },
      "source": [
        "#Example of append(x)\n",
        " \n",
        "List= [\"Cloud\", \"Rain\", 123, 45.67, [8,9,10]]\n",
        "print(List)\n",
        "List.append(\"Weather\")\n",
        "print(List)"
      ],
      "execution_count": null,
      "outputs": [
        {
          "output_type": "stream",
          "text": [
            "['Cloud', 'Rain', 123, 45.67, [8, 9, 10]]\n",
            "['Cloud', 'Rain', 123, 45.67, [8, 9, 10], 'Weather']\n"
          ],
          "name": "stdout"
        }
      ]
    },
    {
      "cell_type": "markdown",
      "metadata": {
        "id": "DImfIosJ2wmP",
        "colab_type": "text"
      },
      "source": [
        "2.remove(x):- Removes the first item from the list that has a value of x. Returns an error if there is no such item."
      ]
    },
    {
      "cell_type": "code",
      "metadata": {
        "id": "55yyBoU93MXu",
        "colab_type": "code",
        "colab": {
          "base_uri": "https://localhost:8080/",
          "height": 75
        },
        "outputId": "43292490-f6f9-4922-85ef-fc1c22228e16"
      },
      "source": [
        "#Example of remove(x)\n",
        " \n",
        "List= [\"Cloud\", \"Rain\", 123, 45.67, [8,9,10]]\n",
        "print(List)\n",
        "List.remove(\"Rain\")\n",
        "print(List)"
      ],
      "execution_count": null,
      "outputs": [
        {
          "output_type": "stream",
          "text": [
            "['Cloud', 'Rain', 123, 45.67, [8, 9, 10]]\n",
            "['Cloud', 123, 45.67, [8, 9, 10]]\n"
          ],
          "name": "stdout"
        }
      ]
    },
    {
      "cell_type": "markdown",
      "metadata": {
        "id": "KlEkE5D035IJ",
        "colab_type": "text"
      },
      "source": [
        "3.clear():- Removes all items from the list. Equivalent to del a[:]."
      ]
    },
    {
      "cell_type": "code",
      "metadata": {
        "id": "eqqA6MS94NoS",
        "colab_type": "code",
        "colab": {
          "base_uri": "https://localhost:8080/",
          "height": 75
        },
        "outputId": "661ef710-e517-4ed3-e735-5339ff377edf"
      },
      "source": [
        "#Example of clear()\n",
        " \n",
        "List= [\"Cloud \", \"Rain\", 123, 45.67, [8,9,10]]\n",
        "print(List)\n",
        "List.clear()\n",
        "print(List)"
      ],
      "execution_count": null,
      "outputs": [
        {
          "output_type": "stream",
          "text": [
            "['Cloud ', 'Rain', 123, 45.67, [8, 9, 10]]\n",
            "[]\n"
          ],
          "name": "stdout"
        }
      ]
    },
    {
      "cell_type": "markdown",
      "metadata": {
        "id": "zHeobwyJ45UC",
        "colab_type": "text"
      },
      "source": [
        " 4.count(x):- Returns the number of times x appears in the list."
      ]
    },
    {
      "cell_type": "code",
      "metadata": {
        "id": "jcoJyB0l5D_G",
        "colab_type": "code",
        "colab": {
          "base_uri": "https://localhost:8080/",
          "height": 150
        },
        "outputId": "ba062fcd-96a5-49a9-ddfa-e08a14aea84e"
      },
      "source": [
        "#Example of count(x)\n",
        " \n",
        "List= [\"Cloud\", \"Rain\", 123, 45.67, [8,9,10], \"Rain\", 123, 123, \"Cloud\", \"Rain\"]\n",
        "print(List)\n",
        " \n",
        "print(List.count(\"Cloud\"))\n",
        "print(List.count(\"Rain\"))\n",
        "print(List.count(123))\n",
        "print(List.count(45.67))\n",
        "print(List.count([8,9,10]))"
      ],
      "execution_count": null,
      "outputs": [
        {
          "output_type": "stream",
          "text": [
            "['Cloud', 'Rain', 123, 45.67, [8, 9, 10], 'Rain', 123, 123, 'Cloud', 'Rain']\n",
            "2\n",
            "3\n",
            "3\n",
            "1\n",
            "1\n"
          ],
          "name": "stdout"
        }
      ]
    },
    {
      "cell_type": "markdown",
      "metadata": {
        "id": "vx9XxX2s6QrT",
        "colab_type": "text"
      },
      "source": [
        "5.reverse():- Reverses the elements of the list in place."
      ]
    },
    {
      "cell_type": "code",
      "metadata": {
        "id": "HMmJd0yU7A3Q",
        "colab_type": "code",
        "colab": {
          "base_uri": "https://localhost:8080/",
          "height": 75
        },
        "outputId": "47d575dd-3712-46f0-ea61-325822fb3dd2"
      },
      "source": [
        "#Example of reverse()\n",
        " \n",
        "List= [\"Cloud\", \"Rain\", 123, 45.67, [8,9,10]]\n",
        "print(List)\n",
        "List.reverse()\n",
        "print(List)"
      ],
      "execution_count": null,
      "outputs": [
        {
          "output_type": "stream",
          "text": [
            "['Cloud', 'Rain', 123, 45.67, [8, 9, 10]]\n",
            "[[8, 9, 10], 45.67, 123, 'Rain', 'Cloud']\n"
          ],
          "name": "stdout"
        }
      ]
    },
    {
      "cell_type": "markdown",
      "metadata": {
        "id": "EK4nC-QzQWUQ",
        "colab_type": "text"
      },
      "source": [
        ".\n",
        "\n",
        "\n",
        "\n",
        "\n",
        "\n",
        "."
      ]
    },
    {
      "cell_type": "markdown",
      "metadata": {
        "id": "ehWp1JXv778M",
        "colab_type": "text"
      },
      "source": [
        "## Question 2:- Dictionary and its default functions."
      ]
    },
    {
      "cell_type": "markdown",
      "metadata": {
        "id": "6TFuYVtO8HGd",
        "colab_type": "text"
      },
      "source": [
        "## **Dictionary**\n",
        " \n",
        "A Dictionary is a collection of key/value pairs. Each key is separated from its value by a colon (:). It is an unordered collection of data values, used to store data values like a map, which unlike other DataTypes that hold only single value as an element, Dictionary holds key:value pair."
      ]
    },
    {
      "cell_type": "markdown",
      "metadata": {
        "id": "LtAAA2hG9Hoh",
        "colab_type": "text"
      },
      "source": [
        "A Dictionary has various methods and functions. They are:- \n",
        " \n",
        "cmp(dict1, dict2), len(dict), str(dict), type(variable) \n",
        " \n",
        "dict.clear(), dict.copy(), dict.fromkeys(), dict.get(key, default =None), dict.has_key(key), dict.items, dict.keys(), dict.setdefault(key, default =None), dict.update(dict2), dict.values()."
      ]
    },
    {
      "cell_type": "markdown",
      "metadata": {
        "id": "X90YmSat-S7k",
        "colab_type": "text"
      },
      "source": [
        "1.clear():- Removes all items from the Dictionary."
      ]
    },
    {
      "cell_type": "code",
      "metadata": {
        "id": "H-skksVR_qES",
        "colab_type": "code",
        "colab": {
          "base_uri": "https://localhost:8080/",
          "height": 75
        },
        "outputId": "ab24bafc-017c-44c8-82f3-d038d1f781d4"
      },
      "source": [
        "#Example of clear()\n",
        " \n",
        "Dict= {'Apple', 'Banana', 'Cherry', 123, 45.67}\n",
        "print(Dict)\n",
        "Dict.clear()\n",
        "print(Dict)"
      ],
      "execution_count": null,
      "outputs": [
        {
          "output_type": "stream",
          "text": [
            "{'Banana', 45.67, 'Cherry', 123, 'Apple'}\n",
            "set()\n"
          ],
          "name": "stdout"
        }
      ]
    },
    {
      "cell_type": "markdown",
      "metadata": {
        "id": "Yrm6L7prBN96",
        "colab_type": "text"
      },
      "source": [
        "2.copy():- Returns a shallow copy of the Dictionary."
      ]
    },
    {
      "cell_type": "code",
      "metadata": {
        "id": "Vjv0bYuVBlK4",
        "colab_type": "code",
        "colab": {
          "base_uri": "https://localhost:8080/",
          "height": 75
        },
        "outputId": "5f650a87-18eb-4bf0-cc81-9ae7188db770"
      },
      "source": [
        "#Example of copy()\n",
        " \n",
        "Dict= {'Apple', 'Banana', 'Cherry', 123, 45.67}\n",
        "print(Dict)\n",
        "Dict.copy()"
      ],
      "execution_count": null,
      "outputs": [
        {
          "output_type": "stream",
          "text": [
            "{'Banana', 45.67, 'Cherry', 123, 'Apple'}\n"
          ],
          "name": "stdout"
        },
        {
          "output_type": "execute_result",
          "data": {
            "text/plain": [
              "{123, 45.67, 'Apple', 'Banana', 'Cherry'}"
            ]
          },
          "metadata": {
            "tags": []
          },
          "execution_count": 16
        }
      ]
    },
    {
      "cell_type": "markdown",
      "metadata": {
        "id": "cRqrw1EHCE5J",
        "colab_type": "text"
      },
      "source": [
        "3.items():- Returns a list of Dictionaries (key, value) tuple pair."
      ]
    },
    {
      "cell_type": "code",
      "metadata": {
        "id": "Svnq9W0tEHU7",
        "colab_type": "code",
        "colab": {
          "base_uri": "https://localhost:8080/",
          "height": 56
        },
        "outputId": "968c8e1f-61e6-4b46-ed13-9ca856251516"
      },
      "source": [
        "#Example of items()\n",
        " \n",
        "Dict= {\"fruit1\": \"Apple\",\"fruit2\": \"Banana\", \"fruit3\": \"Cherry\", \"integer\": 123, \"float\": 45.67}\n",
        "print(Dict)"
      ],
      "execution_count": null,
      "outputs": [
        {
          "output_type": "stream",
          "text": [
            "{'fruit1': 'Apple', 'fruit2': 'Banana', 'fruit3': 'Cherry', 'integer': 123, 'float': 45.67}\n"
          ],
          "name": "stdout"
        }
      ]
    },
    {
      "cell_type": "code",
      "metadata": {
        "id": "4rLvcTNEFkzW",
        "colab_type": "code",
        "colab": {
          "base_uri": "https://localhost:8080/",
          "height": 56
        },
        "outputId": "edbbd01c-e82f-447d-b89c-af6ee20b88ae"
      },
      "source": [
        "Dict.items()"
      ],
      "execution_count": null,
      "outputs": [
        {
          "output_type": "execute_result",
          "data": {
            "text/plain": [
              "dict_items([('fruit1', 'Apple'), ('fruit2', 'Banana'), ('fruit3', 'Cherry'), ('integer', 123), ('float', 45.67)])"
            ]
          },
          "metadata": {
            "tags": []
          },
          "execution_count": 35
        }
      ]
    },
    {
      "cell_type": "markdown",
      "metadata": {
        "id": "siXN8bJbGZE_",
        "colab_type": "text"
      },
      "source": [
        "4.keys():- Returns list of Dictionary keys."
      ]
    },
    {
      "cell_type": "code",
      "metadata": {
        "id": "_I8LaLB5GU_j",
        "colab_type": "code",
        "colab": {
          "base_uri": "https://localhost:8080/",
          "height": 56
        },
        "outputId": "83b3e64e-0a5a-451b-97e6-c28c53362cf9"
      },
      "source": [
        "#Example of keys()\n",
        " \n",
        "Dict= {\"fruit1\": \"Apple\", \"fruit2\": \"Banana\", \"fruit3\": \"Cherry\", \"integer\": 123, \"float\": 45.67}\n",
        "print(Dict)"
      ],
      "execution_count": null,
      "outputs": [
        {
          "output_type": "stream",
          "text": [
            "{'fruit1': 'Apple', 'fruit2': 'Banana', 'fruit3': 'Cherry', 'integer': 123, 'float': 45.67}\n"
          ],
          "name": "stdout"
        }
      ]
    },
    {
      "cell_type": "code",
      "metadata": {
        "id": "OlAD6csmG9Xt",
        "colab_type": "code",
        "colab": {
          "base_uri": "https://localhost:8080/",
          "height": 56
        },
        "outputId": "dd8ed3f4-2891-4878-8666-4b23609e1753"
      },
      "source": [
        "Dict.keys()"
      ],
      "execution_count": null,
      "outputs": [
        {
          "output_type": "execute_result",
          "data": {
            "text/plain": [
              "dict_keys(['fruit1', 'fruit2', 'fruit3', 'integer', 'float'])"
            ]
          },
          "metadata": {
            "tags": []
          },
          "execution_count": 38
        }
      ]
    },
    {
      "cell_type": "markdown",
      "metadata": {
        "id": "6-7UBHiAHu9o",
        "colab_type": "text"
      },
      "source": [
        "5.values():- Returns a list of all the values available in a given Dictionary."
      ]
    },
    {
      "cell_type": "code",
      "metadata": {
        "id": "kW3r0aJiIEdH",
        "colab_type": "code",
        "colab": {
          "base_uri": "https://localhost:8080/",
          "height": 56
        },
        "outputId": "3062dc77-d22a-4979-9c4c-d4b66bed87e5"
      },
      "source": [
        "#Example of values()\n",
        " \n",
        "Dict= {\"fruit1\": \"Apple\", \"fruit2\": \"Banana\", \"fruit3\": \"Cherry\", \"integer\": 123, \"float\": 45.67}\n",
        "print(Dict)"
      ],
      "execution_count": null,
      "outputs": [
        {
          "output_type": "stream",
          "text": [
            "{'fruit1': 'Apple', 'fruit2': 'Banana', 'fruit3': 'Cherry', 'integer': 123, 'float': 45.67}\n"
          ],
          "name": "stdout"
        }
      ]
    },
    {
      "cell_type": "code",
      "metadata": {
        "id": "yqY_4f3YIjoB",
        "colab_type": "code",
        "colab": {
          "base_uri": "https://localhost:8080/",
          "height": 56
        },
        "outputId": "3a90a6af-d511-41c6-fe9f-007ff0050ff7"
      },
      "source": [
        "Dict.values()"
      ],
      "execution_count": null,
      "outputs": [
        {
          "output_type": "execute_result",
          "data": {
            "text/plain": [
              "dict_values(['Apple', 'Banana', 'Cherry', 123, 45.67])"
            ]
          },
          "metadata": {
            "tags": []
          },
          "execution_count": 40
        }
      ]
    },
    {
      "cell_type": "markdown",
      "metadata": {
        "id": "FghWAgmyQdFs",
        "colab_type": "text"
      },
      "source": [
        ".\n",
        "\n",
        "\n",
        "\n",
        "."
      ]
    },
    {
      "cell_type": "markdown",
      "metadata": {
        "id": "FnLq5IcOInlA",
        "colab_type": "text"
      },
      "source": [
        "## Question 3:- Sets and its default functions."
      ]
    },
    {
      "cell_type": "markdown",
      "metadata": {
        "id": "WszDevn0I2E7",
        "colab_type": "text"
      },
      "source": [
        "## **Set**\n",
        " \n",
        "A Set is an unordered collection of items. Set items are unique and immutable."
      ]
    },
    {
      "cell_type": "markdown",
      "metadata": {
        "id": "xyLI2rLcJi3_",
        "colab_type": "text"
      },
      "source": [
        "A Set has various methods and functions. They are:-\n",
        " \n",
        "frozenset(), Set clear(), Set add(), Set copy(), Set difference(), Set difference_update(), Set discard(), Set intersection(), Set intersection_update(), Set isdisjoint(), Set issubset(), Set issuperset(), Set pop(), Set remove(), Set symmetric_difference(), Set symmetric_difference_update(), Set union(), Set update()"
      ]
    },
    {
      "cell_type": "markdown",
      "metadata": {
        "id": "XnIAEFvxKkhS",
        "colab_type": "text"
      },
      "source": [
        "1.add():- Adds element to a Set."
      ]
    },
    {
      "cell_type": "code",
      "metadata": {
        "id": "nsVg1e3OK5ew",
        "colab_type": "code",
        "colab": {
          "base_uri": "https://localhost:8080/",
          "height": 75
        },
        "outputId": "59e7163b-9f47-46c1-dccb-367e0da39512"
      },
      "source": [
        "#Example of add()\n",
        " \n",
        "Set= {123, 45.67, \"Orange\", \"Red\", \"Green\"}\n",
        "print(Set)\n",
        "Set.add(\"Blue\")\n",
        "print(Set)"
      ],
      "execution_count": null,
      "outputs": [
        {
          "output_type": "stream",
          "text": [
            "{'Green', 'Orange', 'Red', 45.67, 123}\n",
            "{'Green', 'Orange', 'Red', 45.67, 'Blue', 123}\n"
          ],
          "name": "stdout"
        }
      ]
    },
    {
      "cell_type": "markdown",
      "metadata": {
        "id": "JALNiiouLzLj",
        "colab_type": "text"
      },
      "source": [
        "2.discard():- Removes an element from the Set."
      ]
    },
    {
      "cell_type": "code",
      "metadata": {
        "id": "MVhvWbfHMBak",
        "colab_type": "code",
        "colab": {
          "base_uri": "https://localhost:8080/",
          "height": 75
        },
        "outputId": "d8fe97a3-b283-4d37-bce0-679b93f5c1c3"
      },
      "source": [
        "#Example of discard()\n",
        " \n",
        "Set= {123, 45.67, \"Orange\", \"Red\", \"Green\"}\n",
        "print(Set)\n",
        "Set.discard(\"Red\")\n",
        "print(Set)"
      ],
      "execution_count": null,
      "outputs": [
        {
          "output_type": "stream",
          "text": [
            "{'Green', 'Orange', 'Red', 45.67, 123}\n",
            "{'Green', 'Orange', 45.67, 123}\n"
          ],
          "name": "stdout"
        }
      ]
    },
    {
      "cell_type": "markdown",
      "metadata": {
        "id": "jR89_3HoMc6m",
        "colab_type": "text"
      },
      "source": [
        "3.issubset():- Checks if a Set is a subset of Another Set."
      ]
    },
    {
      "cell_type": "code",
      "metadata": {
        "id": "CJEfFI5_Mose",
        "colab_type": "code",
        "colab": {
          "base_uri": "https://localhost:8080/",
          "height": 94
        },
        "outputId": "6fd70ee7-f0b5-4e37-f576-5a974f0ade9a"
      },
      "source": [
        "#Example of issubset()\n",
        " \n",
        "Set1={123, 45.67, \"Orange\", \"Red\", \"Green\"}\n",
        "print(Set1)\n",
        "Set2={\"Orange\", 45.67}\n",
        "print(Set2)\n",
        "Set.issubset(Set1)"
      ],
      "execution_count": null,
      "outputs": [
        {
          "output_type": "stream",
          "text": [
            "{'Green', 'Orange', 'Red', 45.67, 123}\n",
            "{'Orange', 45.67}\n"
          ],
          "name": "stdout"
        },
        {
          "output_type": "execute_result",
          "data": {
            "text/plain": [
              "True"
            ]
          },
          "metadata": {
            "tags": []
          },
          "execution_count": 49
        }
      ]
    },
    {
      "cell_type": "markdown",
      "metadata": {
        "id": "1Zaasdp5NonE",
        "colab_type": "text"
      },
      "source": [
        "4.pop():- Removes an arbitrary element."
      ]
    },
    {
      "cell_type": "code",
      "metadata": {
        "id": "H9Ok1rYhNyZL",
        "colab_type": "code",
        "colab": {
          "base_uri": "https://localhost:8080/",
          "height": 75
        },
        "outputId": "d6e258b6-b414-478e-fb8f-cd93c144fa9e"
      },
      "source": [
        "#Example of pop()\n",
        " \n",
        "Set= {123, 45.67, \"Orange\", \"Red\", \"Green\"}\n",
        "print(Set)\n",
        "Set.pop()"
      ],
      "execution_count": null,
      "outputs": [
        {
          "output_type": "stream",
          "text": [
            "{'Green', 'Orange', 'Red', 45.67, 123}\n"
          ],
          "name": "stdout"
        },
        {
          "output_type": "execute_result",
          "data": {
            "application/vnd.google.colaboratory.intrinsic+json": {
              "type": "string"
            },
            "text/plain": [
              "'Green'"
            ]
          },
          "metadata": {
            "tags": []
          },
          "execution_count": 52
        }
      ]
    },
    {
      "cell_type": "code",
      "metadata": {
        "id": "IMOR_eXsOZQ2",
        "colab_type": "code",
        "colab": {
          "base_uri": "https://localhost:8080/",
          "height": 36
        },
        "outputId": "6b64f9d9-1ffc-4586-a46b-b3e8fd404e1b"
      },
      "source": [
        "print(Set)"
      ],
      "execution_count": null,
      "outputs": [
        {
          "output_type": "stream",
          "text": [
            "{'Orange', 'Red', 45.67, 123}\n"
          ],
          "name": "stdout"
        }
      ]
    },
    {
      "cell_type": "markdown",
      "metadata": {
        "id": "XawTyrtYOdKZ",
        "colab_type": "text"
      },
      "source": [
        "5.intersection():- Removes the items in this set that are not present in other, specified set(s)."
      ]
    },
    {
      "cell_type": "code",
      "metadata": {
        "id": "69ox5rm4O1MO",
        "colab_type": "code",
        "colab": {
          "base_uri": "https://localhost:8080/",
          "height": 94
        },
        "outputId": "e8d7ca2f-f80d-4edb-866a-40a3752abdcc"
      },
      "source": [
        "#Example of intersection()\n",
        " \n",
        "Set1= {123, 45.67, \"Orange\", \"Red\", \"Green\"}\n",
        "print(Set1)\n",
        " \n",
        "Set2= {89, 10.11, 123, \"Blue\", \"Yellow\"}\n",
        "print(Set2)\n",
        " \n",
        "Set.intersection(Set1, Set2)"
      ],
      "execution_count": null,
      "outputs": [
        {
          "output_type": "stream",
          "text": [
            "{'Green', 'Orange', 'Red', 45.67, 123}\n",
            "{'Yellow', 10.11, 'Blue', 89, 123}\n"
          ],
          "name": "stdout"
        },
        {
          "output_type": "execute_result",
          "data": {
            "text/plain": [
              "{123}"
            ]
          },
          "metadata": {
            "tags": []
          },
          "execution_count": 56
        }
      ]
    },
    {
      "cell_type": "markdown",
      "metadata": {
        "id": "OO8Kasr6Qgpi",
        "colab_type": "text"
      },
      "source": [
        ".\n",
        "\n",
        "\n",
        "\n",
        "."
      ]
    },
    {
      "cell_type": "markdown",
      "metadata": {
        "id": "C9en3B28PslW",
        "colab_type": "text"
      },
      "source": [
        "## Question 4:- Tuple and explore default methods."
      ]
    },
    {
      "cell_type": "markdown",
      "metadata": {
        "id": "lwP3iIlJP6za",
        "colab_type": "text"
      },
      "source": [
        "## **Tuple**\n",
        " \n",
        "Tuple are ordered immutable collection of objects. Once the data is written it's in that forever. It can't be changed."
      ]
    },
    {
      "cell_type": "markdown",
      "metadata": {
        "id": "8h4zOR8JQtOo",
        "colab_type": "text"
      },
      "source": [
        "A Tuple has various default methods. They are:-\n",
        " tuple count(), tuple index()\n",
        " \n",
        "cmp(tuple1,tuple2), len(tuple), max(tuple), min(tuple), tuple(seq)."
      ]
    },
    {
      "cell_type": "markdown",
      "metadata": {
        "id": "JynmDlmgROcX",
        "colab_type": "text"
      },
      "source": [
        "1.len():- Returns the number of elements in the tuple."
      ]
    },
    {
      "cell_type": "code",
      "metadata": {
        "id": "ATEhsGEtRcXN",
        "colab_type": "code",
        "colab": {
          "base_uri": "https://localhost:8080/",
          "height": 55
        },
        "outputId": "dd309215-2b60-4605-9bf9-bc45e45cd966"
      },
      "source": [
        "#Example of len()\n",
        " \n",
        "tuple1= ('Jack', 'Jon', 'Jin', 123)\n",
        "tuple2= ('Rock', 'Ron', 456)\n",
        "print(tuple1)\n",
        "print(tuple2)"
      ],
      "execution_count": null,
      "outputs": [
        {
          "output_type": "stream",
          "text": [
            "('Jack', 'Jon', 'Jin', 123)\n",
            "('Rock', 'Ron', 456)\n"
          ],
          "name": "stdout"
        }
      ]
    },
    {
      "cell_type": "code",
      "metadata": {
        "id": "h62qx_RRUkcG",
        "colab_type": "code",
        "colab": {
          "base_uri": "https://localhost:8080/",
          "height": 36
        },
        "outputId": "c3490298-3795-4fab-cc8b-795aed6aaaec"
      },
      "source": [
        "len (tuple1)"
      ],
      "execution_count": null,
      "outputs": [
        {
          "output_type": "execute_result",
          "data": {
            "text/plain": [
              "4"
            ]
          },
          "metadata": {
            "tags": []
          },
          "execution_count": 85
        }
      ]
    },
    {
      "cell_type": "code",
      "metadata": {
        "id": "UyHZK7b3VTSU",
        "colab_type": "code",
        "colab": {
          "base_uri": "https://localhost:8080/",
          "height": 36
        },
        "outputId": "fdfd0365-d1f5-4157-f43e-c6035481ed4c"
      },
      "source": [
        "len (tuple2)"
      ],
      "execution_count": null,
      "outputs": [
        {
          "output_type": "execute_result",
          "data": {
            "text/plain": [
              "3"
            ]
          },
          "metadata": {
            "tags": []
          },
          "execution_count": 86
        }
      ]
    },
    {
      "cell_type": "markdown",
      "metadata": {
        "id": "73In2DsrVZEi",
        "colab_type": "text"
      },
      "source": [
        "2.count():- Counts the number of elements in the Tuple."
      ]
    },
    {
      "cell_type": "code",
      "metadata": {
        "id": "lnQ_NZqzVm0i",
        "colab_type": "code",
        "colab": {
          "base_uri": "https://localhost:8080/",
          "height": 36
        },
        "outputId": "e08e4dad-61b3-4feb-aad4-2c141dd3f145"
      },
      "source": [
        "#Example of count()\n",
        " \n",
        "Tuple= ('Jack', 123, 'Jon', 'Jin', 123)\n",
        " \n",
        "Tuple.count(123)"
      ],
      "execution_count": null,
      "outputs": [
        {
          "output_type": "execute_result",
          "data": {
            "text/plain": [
              "2"
            ]
          },
          "metadata": {
            "tags": []
          },
          "execution_count": 92
        }
      ]
    },
    {
      "cell_type": "markdown",
      "metadata": {
        "id": "9igkpjLoXfgS",
        "colab_type": "text"
      },
      "source": [
        " 3.index():- Gives the index number of the element in the tuple."
      ]
    },
    {
      "cell_type": "code",
      "metadata": {
        "id": "rDoUV7-XXoV_",
        "colab_type": "code",
        "colab": {
          "base_uri": "https://localhost:8080/",
          "height": 36
        },
        "outputId": "59d6abd7-a7bd-453c-a122-d079f9f81861"
      },
      "source": [
        "#Example of index()\n",
        " \n",
        "Tuple= ('Jack', 123, 'Jon', 'Jin')\n",
        " \n",
        "Tuple.index('Jin')"
      ],
      "execution_count": null,
      "outputs": [
        {
          "output_type": "execute_result",
          "data": {
            "text/plain": [
              "3"
            ]
          },
          "metadata": {
            "tags": []
          },
          "execution_count": 96
        }
      ]
    },
    {
      "cell_type": "markdown",
      "metadata": {
        "id": "LG4ac9GrYJ4P",
        "colab_type": "text"
      },
      "source": [
        "4."
      ]
    },
    {
      "cell_type": "markdown",
      "metadata": {
        "id": "gUKSj--9Y_vM",
        "colab_type": "text"
      },
      "source": [
        "4.max():- Returns the element with maximum value from the tuple."
      ]
    },
    {
      "cell_type": "code",
      "metadata": {
        "id": "0fdoS2OQZCzh",
        "colab_type": "code",
        "colab": {
          "base_uri": "https://localhost:8080/",
          "height": 36
        },
        "outputId": "c4e96b66-f75c-4252-d4a6-c20a69128b85"
      },
      "source": [
        "#Example of max()\n",
        " \n",
        "Tuple= (234, 432, 112, 156, 653, 734, 973)\n",
        "max(Tuple)"
      ],
      "execution_count": null,
      "outputs": [
        {
          "output_type": "execute_result",
          "data": {
            "text/plain": [
              "973"
            ]
          },
          "metadata": {
            "tags": []
          },
          "execution_count": 97
        }
      ]
    },
    {
      "cell_type": "markdown",
      "metadata": {
        "id": "d6vydgFXZiSi",
        "colab_type": "text"
      },
      "source": [
        "5.sorted():- It returns a sorted version of the tuple. The sorting is in ascending order, and it doesn't modify the original tuple in Python."
      ]
    },
    {
      "cell_type": "code",
      "metadata": {
        "id": "RAbGrVRbZ7eb",
        "colab_type": "code",
        "colab": {
          "base_uri": "https://localhost:8080/",
          "height": 55
        },
        "outputId": "b0df69f9-2643-4a90-b687-34ff0316e2ab"
      },
      "source": [
        "#Example of sorted()\n",
        " \n",
        "Tuple= (23, 54, 34, 98, 53, 12, 87)\n",
        "print(Tuple)\n",
        "sorted(Tuple)"
      ],
      "execution_count": null,
      "outputs": [
        {
          "output_type": "stream",
          "text": [
            "(23, 54, 34, 98, 53, 12, 87)\n"
          ],
          "name": "stdout"
        },
        {
          "output_type": "execute_result",
          "data": {
            "text/plain": [
              "[12, 23, 34, 53, 54, 87, 98]"
            ]
          },
          "metadata": {
            "tags": []
          },
          "execution_count": 100
        }
      ]
    },
    {
      "cell_type": "markdown",
      "metadata": {
        "id": "OIWZGy00Qjkh",
        "colab_type": "text"
      },
      "source": [
        ".\n",
        "\n",
        "\n",
        "\n",
        "\n",
        ".\n"
      ]
    },
    {
      "cell_type": "markdown",
      "metadata": {
        "id": "ASpCRF_Taaiv",
        "colab_type": "text"
      },
      "source": [
        "## Question 5:- Strings and explore default methods."
      ]
    },
    {
      "cell_type": "markdown",
      "metadata": {
        "id": "R_xSxRGJasRu",
        "colab_type": "text"
      },
      "source": [
        "## **Strings**\n",
        " \n",
        "A String is a sequence of unicode characters. Unicode was introduced to include every character of all languages and bring uniformity in encoding."
      ]
    },
    {
      "cell_type": "markdown",
      "metadata": {
        "id": "3eZrxt45bQzI",
        "colab_type": "text"
      },
      "source": [
        "A String has various default methods. They are:-\n",
        " \n",
        "capitalize(), casefold(), center(), count(), endswith(), expandtabs(), find(), format(), format_map(), index(), isalnum(), isalpha(), isdecimal(), isdigit(), isidentifier(), islower(), isnumeric(), isprintable(), isspace(), istitle(), isupper(), join(), ljust(), lower(), lstrip(), makettans(), partition(), replace(), rfind(), rindex(), rjust(), rpartition(), rsplit(), rstrip(), split(), splitlines(), startwith(), strip(), swapcase(), title(), translate(), upper(), zfill()."
      ]
    },
    {
      "cell_type": "markdown",
      "metadata": {
        "id": "ZpEmzuJZc1z2",
        "colab_type": "text"
      },
      "source": [
        "1.casefold():- Converts string into lower case."
      ]
    },
    {
      "cell_type": "code",
      "metadata": {
        "id": "2SkLN59FeoKp",
        "colab_type": "code",
        "colab": {
          "base_uri": "https://localhost:8080/",
          "height": 36
        },
        "outputId": "8c1d9612-3335-4ec8-ce4d-2659e47d8fde"
      },
      "source": [
        "#Example of casefold()\n",
        " \n",
        "str = \"Hello Everyone, Good Morning!\"\n",
        "print (str)"
      ],
      "execution_count": null,
      "outputs": [
        {
          "output_type": "stream",
          "text": [
            "Hello Everyone, Good Morning!\n"
          ],
          "name": "stdout"
        }
      ]
    },
    {
      "cell_type": "code",
      "metadata": {
        "id": "gserHa5Mffa8",
        "colab_type": "code",
        "colab": {
          "base_uri": "https://localhost:8080/",
          "height": 36
        },
        "outputId": "7b131048-7b9d-4230-b15d-e1881ca43551"
      },
      "source": [
        "X=str.casefold()\n",
        "print(X)"
      ],
      "execution_count": null,
      "outputs": [
        {
          "output_type": "stream",
          "text": [
            "hello everyone, good morning!\n"
          ],
          "name": "stdout"
        }
      ]
    },
    {
      "cell_type": "markdown",
      "metadata": {
        "id": "PeI43Ykafs_O",
        "colab_type": "text"
      },
      "source": [
        "2.islower():- Checks if all the characters in the text are in lower font."
      ]
    },
    {
      "cell_type": "code",
      "metadata": {
        "id": "nUbrhgVkgF4m",
        "colab_type": "code",
        "colab": {
          "base_uri": "https://localhost:8080/",
          "height": 36
        },
        "outputId": "201596c8-fb77-433b-f605-3dae0c86a522"
      },
      "source": [
        "#Example of islower()\n",
        " \n",
        "str = \"Hello Everyone, Good Afternoon!\"\n",
        "print(str)"
      ],
      "execution_count": null,
      "outputs": [
        {
          "output_type": "stream",
          "text": [
            "Hello Everyone, Good Afternoon!\n"
          ],
          "name": "stdout"
        }
      ]
    },
    {
      "cell_type": "code",
      "metadata": {
        "id": "OuA_dyXze7Yu",
        "colab_type": "code",
        "colab": {
          "base_uri": "https://localhost:8080/",
          "height": 36
        },
        "outputId": "a99a14ae-7c17-461f-dbd9-334992a93056"
      },
      "source": [
        "x= str.islower()\n",
        "print (x)"
      ],
      "execution_count": null,
      "outputs": [
        {
          "output_type": "stream",
          "text": [
            "False\n"
          ],
          "name": "stdout"
        }
      ]
    },
    {
      "cell_type": "markdown",
      "metadata": {
        "id": "mhpnFBdCgcMj",
        "colab_type": "text"
      },
      "source": [
        "3.isprintable():- Returns True if all the characters in the string are printable."
      ]
    },
    {
      "cell_type": "code",
      "metadata": {
        "id": "jgBjDHASgvh4",
        "colab_type": "code",
        "colab": {
          "base_uri": "https://localhost:8080/",
          "height": 36
        },
        "outputId": "9a6d3e35-5bfe-41e3-eb13-370a567b66af"
      },
      "source": [
        "#Example of isprintable()\n",
        " \n",
        "str = \"Hello Everyone, Good Day!\"\n",
        "print(str)"
      ],
      "execution_count": null,
      "outputs": [
        {
          "output_type": "stream",
          "text": [
            "Hello Everyone, Good Day!\n"
          ],
          "name": "stdout"
        }
      ]
    },
    {
      "cell_type": "code",
      "metadata": {
        "id": "OIs_BBoVhDJU",
        "colab_type": "code",
        "colab": {
          "base_uri": "https://localhost:8080/",
          "height": 36
        },
        "outputId": "79628359-8fd2-4ab6-beaa-1f2b93253438"
      },
      "source": [
        "x= str.isprintable()\n",
        "print(x)"
      ],
      "execution_count": null,
      "outputs": [
        {
          "output_type": "stream",
          "text": [
            "True\n"
          ],
          "name": "stdout"
        }
      ]
    },
    {
      "cell_type": "markdown",
      "metadata": {
        "id": "QdRl9ZRChOIb",
        "colab_type": "text"
      },
      "source": [
        "4.isidentifier():- Returns True if the string is an identifier."
      ]
    },
    {
      "cell_type": "code",
      "metadata": {
        "id": "cyUuKzyNhe7-",
        "colab_type": "code",
        "colab": {
          "base_uri": "https://localhost:8080/",
          "height": 36
        },
        "outputId": "3793c3f4-b3a7-4120-8118-0434d5147ee9"
      },
      "source": [
        "#Example of isidentifier()\n",
        " \n",
        "str = \"Hello Everyone, I won 100 rupees!\"\n",
        "print(str)"
      ],
      "execution_count": null,
      "outputs": [
        {
          "output_type": "stream",
          "text": [
            "Hello Everyone, I won 100 rupees!\n"
          ],
          "name": "stdout"
        }
      ]
    },
    {
      "cell_type": "code",
      "metadata": {
        "id": "kSQ-teBchu2a",
        "colab_type": "code",
        "colab": {
          "base_uri": "https://localhost:8080/",
          "height": 36
        },
        "outputId": "f837f607-d802-4bc2-d514-936dab5a63bf"
      },
      "source": [
        "x=str.isidentifier()\n",
        "print(x)"
      ],
      "execution_count": null,
      "outputs": [
        {
          "output_type": "stream",
          "text": [
            "False\n"
          ],
          "name": "stdout"
        }
      ]
    },
    {
      "cell_type": "markdown",
      "metadata": {
        "id": "a1ne-Cn-j19b",
        "colab_type": "text"
      },
      "source": [
        "5.encode():- Returns an encoded version of the string."
      ]
    },
    {
      "cell_type": "code",
      "metadata": {
        "id": "nAHZKWxnj_CT",
        "colab_type": "code",
        "colab": {
          "base_uri": "https://localhost:8080/",
          "height": 36
        },
        "outputId": "3994d0d5-66d5-40c8-f17a-3e1e94e97533"
      },
      "source": [
        "#Example of encode()\n",
        " \n",
        "str= \"Hello Everyone, Nice to see you!\"\n",
        "print(str)"
      ],
      "execution_count": null,
      "outputs": [
        {
          "output_type": "stream",
          "text": [
            "Hello Everyone, Nice to see you!\n"
          ],
          "name": "stdout"
        }
      ]
    },
    {
      "cell_type": "code",
      "metadata": {
        "id": "_0aVpIe8kQ-q",
        "colab_type": "code",
        "colab": {
          "base_uri": "https://localhost:8080/",
          "height": 36
        },
        "outputId": "28cd6682-b806-486e-ac48-fc77e14e2b34"
      },
      "source": [
        "X=str.encode()\n",
        "print(X)"
      ],
      "execution_count": null,
      "outputs": [
        {
          "output_type": "stream",
          "text": [
            "b'Hello Everyone, Nice to see you!'\n"
          ],
          "name": "stdout"
        }
      ]
    }
  ]
}