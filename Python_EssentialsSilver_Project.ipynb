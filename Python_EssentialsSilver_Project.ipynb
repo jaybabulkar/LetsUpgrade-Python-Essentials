{
  "nbformat": 4,
  "nbformat_minor": 0,
  "metadata": {
    "colab": {
      "name": "Python EssentialsSilver Project.ipynb",
      "provenance": [],
      "collapsed_sections": [],
      "authorship_tag": "ABX9TyP0uRtzdKPOpMfEYwXdYXan",
      "include_colab_link": true
    },
    "kernelspec": {
      "name": "python3",
      "display_name": "Python 3"
    }
  },
  "cells": [
    {
      "cell_type": "markdown",
      "metadata": {
        "id": "view-in-github",
        "colab_type": "text"
      },
      "source": [
        "<a href=\"https://colab.research.google.com/github/jaybabulkar/LetsUpgrade-Python-Essentials/blob/master/Python_EssentialsSilver_Project.ipynb\" target=\"_parent\"><img src=\"https://colab.research.google.com/assets/colab-badge.svg\" alt=\"Open In Colab\"/></a>"
      ]
    },
    {
      "cell_type": "code",
      "metadata": {
        "id": "6x9jZCAtF5lc",
        "colab_type": "code",
        "colab": {}
      },
      "source": [
        "def takePlayerInput():\n",
        "    player = \"blank\"\n",
        "    while not(player.lower() == \"r\" or player.lower() == \"p\" or player.lower() == \"s\"):\n",
        "        player = input(\"Please enter your input out of - R | P | S = \")\n",
        "    return player.lower()"
      ],
      "execution_count": 39,
      "outputs": []
    },
    {
      "cell_type": "code",
      "metadata": {
        "id": "fNx7VkUZHEQ3",
        "colab_type": "code",
        "colab": {
          "base_uri": "https://localhost:8080/",
          "height": 51
        },
        "outputId": "cd99117f-aa99-46fe-cb3a-3b2c500de63c"
      },
      "source": [
        "takePlayerInput()"
      ],
      "execution_count": 40,
      "outputs": [
        {
          "output_type": "stream",
          "text": [
            "Please enter your input out of - R | P | S = r\n"
          ],
          "name": "stdout"
        },
        {
          "output_type": "execute_result",
          "data": {
            "application/vnd.google.colaboratory.intrinsic+json": {
              "type": "string"
            },
            "text/plain": [
              "'r'"
            ]
          },
          "metadata": {
            "tags": []
          },
          "execution_count": 40
        }
      ]
    },
    {
      "cell_type": "code",
      "metadata": {
        "id": "KLNIIdCNHHcX",
        "colab_type": "code",
        "colab": {}
      },
      "source": [
        "import random\n",
        " \n",
        "def getBotInput():\n",
        "    lst = ['r','s','p']\n",
        "    return random.choice(lst)"
      ],
      "execution_count": 41,
      "outputs": []
    },
    {
      "cell_type": "code",
      "metadata": {
        "id": "15OfnKmrHiRS",
        "colab_type": "code",
        "colab": {
          "base_uri": "https://localhost:8080/",
          "height": 35
        },
        "outputId": "5cf0b168-f6a0-440c-c734-f9a5bc58020d"
      },
      "source": [
        "getBotInput()"
      ],
      "execution_count": 42,
      "outputs": [
        {
          "output_type": "execute_result",
          "data": {
            "application/vnd.google.colaboratory.intrinsic+json": {
              "type": "string"
            },
            "text/plain": [
              "'s'"
            ]
          },
          "metadata": {
            "tags": []
          },
          "execution_count": 42
        }
      ]
    },
    {
      "cell_type": "code",
      "metadata": {
        "id": "CN3M4ogQHw2z",
        "colab_type": "code",
        "colab": {}
      },
      "source": [
        "def rockPaperScissor():\n",
        "    endTheGame = \"n\"\n",
        "    player_score = 0\n",
        "    bot_score = 0\n",
        "    while endTheGame.lower() != \"y\":\n",
        "        ply = takePlayerInput()\n",
        "        bt = getBotInput()\n",
        "        print('Bot Entered -',bt)\n",
        "        print(\"\")\n",
        "        winner = checkWinner(player = ply, bot = bt)\n",
        "        print(\"Winner is - \",winner)\n",
        "        print(\"\")\n",
        "        if winner == \"player\":\n",
        "            player_score += 2\n",
        "        elif winner == \"bot\":\n",
        "            bot_score += 2\n",
        "        else:\n",
        "            player_score += 1\n",
        "            bot_score += 1\n",
        " \n",
        "        print(\"_ _Score board_ _\")\n",
        "        print(\"PLAYER\", player_score)\n",
        "        print(\"Bot _ _ _\",bot_score)\n",
        "        print(\"\")\n",
        "        endTheGame = input(\"You want to end Y/N - \")"
      ],
      "execution_count": 44,
      "outputs": []
    },
    {
      "cell_type": "code",
      "metadata": {
        "id": "w5coFDzyKSsz",
        "colab_type": "code",
        "colab": {
          "base_uri": "https://localhost:8080/",
          "height": 321
        },
        "outputId": "6a8e6622-d594-470c-8b7e-2ad95c994590"
      },
      "source": [
        "rockPaperScissor()"
      ],
      "execution_count": 45,
      "outputs": [
        {
          "output_type": "stream",
          "text": [
            "Please enter your input out of - R | P | S = r\n",
            "Bot Entered - s\n",
            "\n"
          ],
          "name": "stdout"
        },
        {
          "output_type": "error",
          "ename": "NameError",
          "evalue": "ignored",
          "traceback": [
            "\u001b[0;31m---------------------------------------------------------------------------\u001b[0m",
            "\u001b[0;31mNameError\u001b[0m                                 Traceback (most recent call last)",
            "\u001b[0;32m<ipython-input-45-e08a31d6739f>\u001b[0m in \u001b[0;36m<module>\u001b[0;34m()\u001b[0m\n\u001b[0;32m----> 1\u001b[0;31m \u001b[0mrockPaperScissor\u001b[0m\u001b[0;34m(\u001b[0m\u001b[0;34m)\u001b[0m\u001b[0;34m\u001b[0m\u001b[0;34m\u001b[0m\u001b[0m\n\u001b[0m",
            "\u001b[0;32m<ipython-input-44-6d5325d8fd56>\u001b[0m in \u001b[0;36mrockPaperScissor\u001b[0;34m()\u001b[0m\n\u001b[1;32m      8\u001b[0m         \u001b[0mprint\u001b[0m\u001b[0;34m(\u001b[0m\u001b[0;34m'Bot Entered -'\u001b[0m\u001b[0;34m,\u001b[0m\u001b[0mbt\u001b[0m\u001b[0;34m)\u001b[0m\u001b[0;34m\u001b[0m\u001b[0;34m\u001b[0m\u001b[0m\n\u001b[1;32m      9\u001b[0m         \u001b[0mprint\u001b[0m\u001b[0;34m(\u001b[0m\u001b[0;34m\"\"\u001b[0m\u001b[0;34m)\u001b[0m\u001b[0;34m\u001b[0m\u001b[0;34m\u001b[0m\u001b[0m\n\u001b[0;32m---> 10\u001b[0;31m         \u001b[0mwinner\u001b[0m \u001b[0;34m=\u001b[0m \u001b[0mcheckWinner\u001b[0m\u001b[0;34m(\u001b[0m\u001b[0mplayer\u001b[0m \u001b[0;34m=\u001b[0m \u001b[0mply\u001b[0m\u001b[0;34m,\u001b[0m \u001b[0mbot\u001b[0m \u001b[0;34m=\u001b[0m \u001b[0mbt\u001b[0m\u001b[0;34m)\u001b[0m\u001b[0;34m\u001b[0m\u001b[0;34m\u001b[0m\u001b[0m\n\u001b[0m\u001b[1;32m     11\u001b[0m         \u001b[0mprint\u001b[0m\u001b[0;34m(\u001b[0m\u001b[0;34m\"Winner is - \"\u001b[0m\u001b[0;34m,\u001b[0m\u001b[0mwinner\u001b[0m\u001b[0;34m)\u001b[0m\u001b[0;34m\u001b[0m\u001b[0;34m\u001b[0m\u001b[0m\n\u001b[1;32m     12\u001b[0m         \u001b[0mprint\u001b[0m\u001b[0;34m(\u001b[0m\u001b[0;34m\"\"\u001b[0m\u001b[0;34m)\u001b[0m\u001b[0;34m\u001b[0m\u001b[0;34m\u001b[0m\u001b[0m\n",
            "\u001b[0;31mNameError\u001b[0m: name 'checkWinner' is not defined"
          ]
        }
      ]
    }
  ]
}