{
  "nbformat": 4,
  "nbformat_minor": 0,
  "metadata": {
    "colab": {
      "name": "Python Essentials Batch-7 Day-8 Assignment.ipynb",
      "provenance": [],
      "collapsed_sections": [],
      "authorship_tag": "ABX9TyPwLtIcAyim2KqxFcn+p1UT",
      "include_colab_link": true
    },
    "kernelspec": {
      "name": "python3",
      "display_name": "Python 3"
    }
  },
  "cells": [
    {
      "cell_type": "markdown",
      "metadata": {
        "id": "view-in-github",
        "colab_type": "text"
      },
      "source": [
        "<a href=\"https://colab.research.google.com/github/jaybabulkar/LetsUpgrade-Python-Essentials/blob/master/Python_Essentials_Batch_7_Day_8_Assignment.ipynb\" target=\"_parent\"><img src=\"https://colab.research.google.com/assets/colab-badge.svg\" alt=\"Open In Colab\"/></a>"
      ]
    },
    {
      "cell_type": "markdown",
      "metadata": {
        "id": "_uDyjtadIgft",
        "colab_type": "text"
      },
      "source": [
        "## Question 1:-\n",
        "\n",
        "Write a Decorator function for your taking input for you any kind of function you want to build. \n",
        "\n",
        "For example - You make a Fibonacci Series function, in which your input range is defined by the decorator program input."
      ]
    },
    {
      "cell_type": "markdown",
      "metadata": {
        "id": "0_lrAKNtGBVd",
        "colab_type": "text"
      },
      "source": [
        "A Decorator is a Python function that takes a function object as an argument and returns a function as a value.\n",
        " \n",
        "#Factorial of a Number.\n",
        " \n",
        "Here now we will be defining a function which will calculate factorial of a number specified. \n",
        " \n",
        " \n",
        "Alongside that we will also be making use of Memoization. \n",
        "In computing, Memoization is an optimization technique used primarily to speed up computer programs for storing the results of expensive function calls and returning the cached result when the same input occurs again."
      ]
    },
    {
      "cell_type": "code",
      "metadata": {
        "id": "v46c8PeqKFFj",
        "colab_type": "code",
        "colab": {
          "base_uri": "https://localhost:8080/",
          "height": 36
        },
        "outputId": "1b76bd97-e136-4cf4-c03f-11db7b87235e"
      },
      "source": [
        "#Factorial function with Memoization using Decorators.\n",
        " \n",
        " \n",
        "#Here a Decorator function for function 'f' passed as parameters.\n",
        "def memoize_factorial(f):\n",
        "    memory = {}\n",
        "     \n",
        "    #This inner function can access both memory and function 'f'.\n",
        "    def inner(num):\n",
        "        if num not in memory:\n",
        "            memory[num] = f(num)\n",
        "        return memory[num]\n",
        " \n",
        "    return inner\n",
        " \n",
        "@memoize_factorial\n",
        "def facto(num):\n",
        "    if num == 1:\n",
        "        return 1\n",
        "    else:\n",
        "        return num * facto(num-1)\n",
        " \n",
        "print(facto(9))"
      ],
      "execution_count": null,
      "outputs": [
        {
          "output_type": "stream",
          "text": [
            "362880\n"
          ],
          "name": "stdout"
        }
      ]
    },
    {
      "cell_type": "markdown",
      "metadata": {
        "id": "7qQvFzFTNQAP",
        "colab_type": "text"
      },
      "source": [
        "#Question 2:-\n",
        "\n",
        "For this challenge you need to develop a Python program to open a file in read only mode and try writing something to it and handle the subsequent errors using Exceptional Handling."
      ]
    },
    {
      "cell_type": "markdown",
      "metadata": {
        "id": "wqvBn5e-Ov_H",
        "colab_type": "text"
      },
      "source": [
        "What is Exception?\n",
        "\n",
        "The errors that occur at runtime, and we know them as Exceptions. An Exception is an event which occurs during the execution of a program and disrupts the normal flow of the program's instructions."
      ]
    },
    {
      "cell_type": "code",
      "metadata": {
        "id": "JUufSnokSEDx",
        "colab_type": "code",
        "colab": {
          "base_uri": "https://localhost:8080/",
          "height": 308
        },
        "outputId": "cd53b3e5-9af5-4421-b86b-630bb933f750"
      },
      "source": [
        "variable =10 \n",
        "print (variable + \"hello\")\n",
        "print(variable/2)"
      ],
      "execution_count": null,
      "outputs": [
        {
          "output_type": "error",
          "ename": "TypeError",
          "evalue": "ignored",
          "traceback": [
            "\u001b[0;31m---------------------------------------------------------------------------\u001b[0m",
            "\u001b[0;31mTypeError\u001b[0m                                 Traceback (most recent call last)",
            "\u001b[0;32m<ipython-input-35-542f174a3b89>\u001b[0m in \u001b[0;36m<module>\u001b[0;34m()\u001b[0m\n\u001b[1;32m      1\u001b[0m \u001b[0mvariable\u001b[0m \u001b[0;34m=\u001b[0m\u001b[0;36m10\u001b[0m\u001b[0;34m\u001b[0m\u001b[0;34m\u001b[0m\u001b[0m\n\u001b[0;32m----> 2\u001b[0;31m \u001b[0mprint\u001b[0m \u001b[0;34m(\u001b[0m\u001b[0mvariable\u001b[0m \u001b[0;34m+\u001b[0m \u001b[0;34m\"hello\"\u001b[0m\u001b[0;34m)\u001b[0m\u001b[0;34m\u001b[0m\u001b[0;34m\u001b[0m\u001b[0m\n\u001b[0m\u001b[1;32m      3\u001b[0m \u001b[0mprint\u001b[0m\u001b[0;34m(\u001b[0m\u001b[0mvariable\u001b[0m\u001b[0;34m/\u001b[0m\u001b[0;36m2\u001b[0m\u001b[0;34m)\u001b[0m\u001b[0;34m\u001b[0m\u001b[0;34m\u001b[0m\u001b[0m\n",
            "\u001b[0;31mTypeError\u001b[0m: unsupported operand type(s) for +: 'int' and 'str'"
          ]
        }
      ]
    },
    {
      "cell_type": "markdown",
      "metadata": {
        "id": "34TEVWFkRzsb",
        "colab_type": "text"
      },
      "source": [
        " Here as we can see the error can't stop the execution of the program. However it changes the normal flow of the program."
      ]
    },
    {
      "cell_type": "code",
      "metadata": {
        "id": "nkPJX6XaVHQn",
        "colab_type": "code",
        "colab": {
          "base_uri": "https://localhost:8080/",
          "height": 36
        },
        "outputId": "92fa4d01-bf51-4516-9481-e3cfce1f1810"
      },
      "source": [
        "#A try statement can have multiple except blocks.\n",
        " \n",
        "try:\n",
        "  variable = 10\n",
        "  print(variable + \"hello\")\n",
        "  print(variable/2)\n",
        " \n",
        "except (ZeroDivisionError):\n",
        "  print(\"Divided by Zero\")\n",
        "except (ValueError, TypeError):\n",
        "  print(\"Error Occured\")"
      ],
      "execution_count": null,
      "outputs": [
        {
          "output_type": "stream",
          "text": [
            "Error Occured\n"
          ],
          "name": "stdout"
        }
      ]
    },
    {
      "cell_type": "markdown",
      "metadata": {
        "id": "8gvW8p23WuTm",
        "colab_type": "text"
      },
      "source": [
        "So in this case, we are trying to add an integer value with a string. So definitely it will result in an error. So with it except is used. So the print within except gets printed."
      ]
    }
  ]
}